{
 "cells": [
  {
   "cell_type": "code",
   "execution_count": null,
   "id": "bc105e7c",
   "metadata": {},
   "outputs": [],
   "source": []
  },
  {
   "cell_type": "markdown",
   "id": "151c65e0",
   "metadata": {},
   "source": [
    "# Importation des librairies"
   ]
  },
  {
   "cell_type": "code",
   "execution_count": 62,
   "id": "780ceba4",
   "metadata": {},
   "outputs": [],
   "source": [
    "import pandas as pd\n",
    "import numpy as np\n",
    "import re\n",
    "import seaborn as sns\n",
    "import datetime as dt\n",
    "import scipy.stats as st\n",
    "import matplotlib.pyplot as plt"
   ]
  },
  {
   "cell_type": "markdown",
   "id": "f30c5bc3",
   "metadata": {},
   "source": [
    "## Chargement et affichage des donnees"
   ]
  },
  {
   "cell_type": "code",
   "execution_count": 63,
   "id": "890fe633",
   "metadata": {},
   "outputs": [
    {
     "data": {
      "text/html": [
       "<div>\n",
       "<style scoped>\n",
       "    .dataframe tbody tr th:only-of-type {\n",
       "        vertical-align: middle;\n",
       "    }\n",
       "\n",
       "    .dataframe tbody tr th {\n",
       "        vertical-align: top;\n",
       "    }\n",
       "\n",
       "    .dataframe thead th {\n",
       "        text-align: right;\n",
       "    }\n",
       "</style>\n",
       "<table border=\"1\" class=\"dataframe\">\n",
       "  <thead>\n",
       "    <tr style=\"text-align: right;\">\n",
       "      <th></th>\n",
       "      <th>date_operation</th>\n",
       "      <th>libelle</th>\n",
       "      <th>montant</th>\n",
       "      <th>solde_avt_ope</th>\n",
       "      <th>categ</th>\n",
       "    </tr>\n",
       "  </thead>\n",
       "  <tbody>\n",
       "    <tr>\n",
       "      <th>0</th>\n",
       "      <td>2023-03-31</td>\n",
       "      <td>DON XX XX XX XX XX XX XX</td>\n",
       "      <td>-1.44</td>\n",
       "      <td>1515.25</td>\n",
       "      <td>AUTRE</td>\n",
       "    </tr>\n",
       "    <tr>\n",
       "      <th>1</th>\n",
       "      <td>2023-04-03</td>\n",
       "      <td>CARTE XX XX RAPT XX</td>\n",
       "      <td>-24.00</td>\n",
       "      <td>1513.81</td>\n",
       "      <td>TRANSPORT</td>\n",
       "    </tr>\n",
       "    <tr>\n",
       "      <th>2</th>\n",
       "      <td>2023-04-03</td>\n",
       "      <td>CARTE XX XX RAPT XX</td>\n",
       "      <td>-73.00</td>\n",
       "      <td>1489.81</td>\n",
       "      <td>TRANSPORT</td>\n",
       "    </tr>\n",
       "    <tr>\n",
       "      <th>3</th>\n",
       "      <td>2023-04-03</td>\n",
       "      <td>VIREMENT XX XX XX XX XX XX XX XX XX XX XX XX</td>\n",
       "      <td>676.00</td>\n",
       "      <td>1416.81</td>\n",
       "      <td>AUTRE</td>\n",
       "    </tr>\n",
       "    <tr>\n",
       "      <th>4</th>\n",
       "      <td>2023-04-03</td>\n",
       "      <td>VIREMENT XX XX XX XX XX XX</td>\n",
       "      <td>4.80</td>\n",
       "      <td>2092.81</td>\n",
       "      <td>AUTRE</td>\n",
       "    </tr>\n",
       "    <tr>\n",
       "      <th>...</th>\n",
       "      <td>...</td>\n",
       "      <td>...</td>\n",
       "      <td>...</td>\n",
       "      <td>...</td>\n",
       "      <td>...</td>\n",
       "    </tr>\n",
       "    <tr>\n",
       "      <th>304</th>\n",
       "      <td>2023-10-05</td>\n",
       "      <td>CARTE XX XX XX XX XX XX</td>\n",
       "      <td>-10.64</td>\n",
       "      <td>2440.94</td>\n",
       "      <td>AUTRE</td>\n",
       "    </tr>\n",
       "    <tr>\n",
       "      <th>305</th>\n",
       "      <td>2023-10-05</td>\n",
       "      <td>CARTE XX XX XX XX</td>\n",
       "      <td>-4.80</td>\n",
       "      <td>2430.30</td>\n",
       "      <td>AUTRE</td>\n",
       "    </tr>\n",
       "    <tr>\n",
       "      <th>306</th>\n",
       "      <td>2023-10-06</td>\n",
       "      <td>FORFAIT COMPTE SUPERBANK XX XX XX XX</td>\n",
       "      <td>-1.92</td>\n",
       "      <td>2425.50</td>\n",
       "      <td>COTISATION BANCAIRE</td>\n",
       "    </tr>\n",
       "    <tr>\n",
       "      <th>307</th>\n",
       "      <td>2023-10-06</td>\n",
       "      <td>CARTE XX XX CHEZ LUC XX</td>\n",
       "      <td>-10.00</td>\n",
       "      <td>2423.58</td>\n",
       "      <td>RESTAURANT</td>\n",
       "    </tr>\n",
       "    <tr>\n",
       "      <th>308</th>\n",
       "      <td>2023-10-06</td>\n",
       "      <td>PRELEVEMENT XX TELEPHONE XX XX</td>\n",
       "      <td>-13.58</td>\n",
       "      <td>2413.58</td>\n",
       "      <td>FACTURE TELEPHONE</td>\n",
       "    </tr>\n",
       "  </tbody>\n",
       "</table>\n",
       "<p>309 rows × 5 columns</p>\n",
       "</div>"
      ],
      "text/plain": [
       "    date_operation                                       libelle  montant  \\\n",
       "0       2023-03-31                      DON XX XX XX XX XX XX XX    -1.44   \n",
       "1       2023-04-03                           CARTE XX XX RAPT XX   -24.00   \n",
       "2       2023-04-03                           CARTE XX XX RAPT XX   -73.00   \n",
       "3       2023-04-03  VIREMENT XX XX XX XX XX XX XX XX XX XX XX XX   676.00   \n",
       "4       2023-04-03                    VIREMENT XX XX XX XX XX XX     4.80   \n",
       "..             ...                                           ...      ...   \n",
       "304     2023-10-05                       CARTE XX XX XX XX XX XX   -10.64   \n",
       "305     2023-10-05                             CARTE XX XX XX XX    -4.80   \n",
       "306     2023-10-06          FORFAIT COMPTE SUPERBANK XX XX XX XX    -1.92   \n",
       "307     2023-10-06                       CARTE XX XX CHEZ LUC XX   -10.00   \n",
       "308     2023-10-06                PRELEVEMENT XX TELEPHONE XX XX   -13.58   \n",
       "\n",
       "     solde_avt_ope                categ  \n",
       "0          1515.25                AUTRE  \n",
       "1          1513.81            TRANSPORT  \n",
       "2          1489.81            TRANSPORT  \n",
       "3          1416.81                AUTRE  \n",
       "4          2092.81                AUTRE  \n",
       "..             ...                  ...  \n",
       "304        2440.94                AUTRE  \n",
       "305        2430.30                AUTRE  \n",
       "306        2425.50  COTISATION BANCAIRE  \n",
       "307        2423.58           RESTAURANT  \n",
       "308        2413.58    FACTURE TELEPHONE  \n",
       "\n",
       "[309 rows x 5 columns]"
      ]
     },
     "execution_count": 63,
     "metadata": {},
     "output_type": "execute_result"
    }
   ],
   "source": [
    "data = pd.read_csv(\"operations.csv\")\n",
    "data"
   ]
  },
  {
   "cell_type": "markdown",
   "id": "09c659d8",
   "metadata": {},
   "source": [
    "# Detection des erreurs"
   ]
  },
  {
   "cell_type": "markdown",
   "id": "b0f62dc3",
   "metadata": {},
   "source": [
    "### Erreur de type"
   ]
  },
  {
   "cell_type": "code",
   "execution_count": 64,
   "id": "f6adb4aa",
   "metadata": {},
   "outputs": [
    {
     "data": {
      "text/plain": [
       "date_operation     object\n",
       "libelle            object\n",
       "montant           float64\n",
       "solde_avt_ope     float64\n",
       "categ              object\n",
       "dtype: object"
      ]
     },
     "execution_count": 64,
     "metadata": {},
     "output_type": "execute_result"
    }
   ],
   "source": [
    "data.dtypes"
   ]
  },
  {
   "cell_type": "markdown",
   "id": "d4bbf9bb",
   "metadata": {},
   "source": [
    "#### Conversion de la dates"
   ]
  },
  {
   "cell_type": "code",
   "execution_count": 65,
   "id": "e16fd862",
   "metadata": {},
   "outputs": [],
   "source": [
    "data['date_operation'] = pd.to_datetime(data['date_operation'])"
   ]
  },
  {
   "cell_type": "code",
   "execution_count": 66,
   "id": "22cee856",
   "metadata": {},
   "outputs": [
    {
     "data": {
      "text/plain": [
       "date_operation    datetime64[ns]\n",
       "libelle                   object\n",
       "montant                  float64\n",
       "solde_avt_ope            float64\n",
       "categ                     object\n",
       "dtype: object"
      ]
     },
     "execution_count": 66,
     "metadata": {},
     "output_type": "execute_result"
    }
   ],
   "source": [
    "data.dtypes"
   ]
  },
  {
   "cell_type": "markdown",
   "id": "60af73da",
   "metadata": {},
   "source": [
    "### Valeur manquantes"
   ]
  },
  {
   "cell_type": "code",
   "execution_count": 67,
   "id": "78da4a2b",
   "metadata": {},
   "outputs": [
    {
     "data": {
      "text/plain": [
       "date_operation    0\n",
       "libelle           0\n",
       "montant           2\n",
       "solde_avt_ope     0\n",
       "categ             1\n",
       "dtype: int64"
      ]
     },
     "execution_count": 67,
     "metadata": {},
     "output_type": "execute_result"
    }
   ],
   "source": [
    "data.isna().sum()"
   ]
  },
  {
   "cell_type": "markdown",
   "id": "c5905bad",
   "metadata": {},
   "source": [
    "#### Variables ayant les valeurs manquantes"
   ]
  },
  {
   "cell_type": "code",
   "execution_count": 68,
   "id": "13cfd3c9",
   "metadata": {},
   "outputs": [
    {
     "data": {
      "text/plain": [
       "montant    2\n",
       "categ      1\n",
       "dtype: int64"
      ]
     },
     "execution_count": 68,
     "metadata": {},
     "output_type": "execute_result"
    }
   ],
   "source": [
    "mv = data.isna().sum()\n",
    "mv[mv>0]"
   ]
  },
  {
   "cell_type": "markdown",
   "id": "aaf3ac9a",
   "metadata": {},
   "source": [
    "#### Individus ayant les valeurs manquantes"
   ]
  },
  {
   "cell_type": "code",
   "execution_count": 69,
   "id": "62b83fe9",
   "metadata": {},
   "outputs": [
    {
     "data": {
      "text/html": [
       "<div>\n",
       "<style scoped>\n",
       "    .dataframe tbody tr th:only-of-type {\n",
       "        vertical-align: middle;\n",
       "    }\n",
       "\n",
       "    .dataframe tbody tr th {\n",
       "        vertical-align: top;\n",
       "    }\n",
       "\n",
       "    .dataframe thead th {\n",
       "        text-align: right;\n",
       "    }\n",
       "</style>\n",
       "<table border=\"1\" class=\"dataframe\">\n",
       "  <thead>\n",
       "    <tr style=\"text-align: right;\">\n",
       "      <th></th>\n",
       "      <th>date_operation</th>\n",
       "      <th>libelle</th>\n",
       "      <th>montant</th>\n",
       "      <th>solde_avt_ope</th>\n",
       "      <th>categ</th>\n",
       "    </tr>\n",
       "  </thead>\n",
       "  <tbody>\n",
       "    <tr>\n",
       "      <th>107</th>\n",
       "      <td>2023-06-12</td>\n",
       "      <td>CARTE XX XX LES ANCIENS ROBINSON XX</td>\n",
       "      <td>NaN</td>\n",
       "      <td>4667.19</td>\n",
       "      <td>COURSES</td>\n",
       "    </tr>\n",
       "    <tr>\n",
       "      <th>269</th>\n",
       "      <td>2023-09-11</td>\n",
       "      <td>CARTE XX XX XX XX</td>\n",
       "      <td>NaN</td>\n",
       "      <td>3401.93</td>\n",
       "      <td>AUTRE</td>\n",
       "    </tr>\n",
       "  </tbody>\n",
       "</table>\n",
       "</div>"
      ],
      "text/plain": [
       "    date_operation                              libelle  montant  \\\n",
       "107     2023-06-12  CARTE XX XX LES ANCIENS ROBINSON XX      NaN   \n",
       "269     2023-09-11                    CARTE XX XX XX XX      NaN   \n",
       "\n",
       "     solde_avt_ope    categ  \n",
       "107        4667.19  COURSES  \n",
       "269        3401.93    AUTRE  "
      ]
     },
     "execution_count": 69,
     "metadata": {},
     "output_type": "execute_result"
    }
   ],
   "source": [
    "data.loc[data['montant'].isnull(),:]"
   ]
  },
  {
   "cell_type": "code",
   "execution_count": 70,
   "id": "091a169c",
   "metadata": {},
   "outputs": [
    {
     "data": {
      "text/html": [
       "<div>\n",
       "<style scoped>\n",
       "    .dataframe tbody tr th:only-of-type {\n",
       "        vertical-align: middle;\n",
       "    }\n",
       "\n",
       "    .dataframe tbody tr th {\n",
       "        vertical-align: top;\n",
       "    }\n",
       "\n",
       "    .dataframe thead th {\n",
       "        text-align: right;\n",
       "    }\n",
       "</style>\n",
       "<table border=\"1\" class=\"dataframe\">\n",
       "  <thead>\n",
       "    <tr style=\"text-align: right;\">\n",
       "      <th></th>\n",
       "      <th>date_operation</th>\n",
       "      <th>libelle</th>\n",
       "      <th>montant</th>\n",
       "      <th>solde_avt_ope</th>\n",
       "      <th>categ</th>\n",
       "    </tr>\n",
       "  </thead>\n",
       "  <tbody>\n",
       "    <tr>\n",
       "      <th>156</th>\n",
       "      <td>2023-07-06</td>\n",
       "      <td>PRELEVEMENT XX TELEPHONE XX XX</td>\n",
       "      <td>-36.48</td>\n",
       "      <td>3295.68</td>\n",
       "      <td>NaN</td>\n",
       "    </tr>\n",
       "  </tbody>\n",
       "</table>\n",
       "</div>"
      ],
      "text/plain": [
       "    date_operation                         libelle  montant  solde_avt_ope  \\\n",
       "156     2023-07-06  PRELEVEMENT XX TELEPHONE XX XX   -36.48        3295.68   \n",
       "\n",
       "    categ  \n",
       "156   NaN  "
      ]
     },
     "execution_count": 70,
     "metadata": {},
     "output_type": "execute_result"
    }
   ],
   "source": [
    "data.loc[data['categ'].isnull(),:]"
   ]
  },
  {
   "cell_type": "raw",
   "id": "dd95a00c",
   "metadata": {},
   "source": [
    "Traitement des montant manquant par le solde de l'operation suivant- le solde de l'operation concernee"
   ]
  },
  {
   "cell_type": "code",
   "execution_count": 71,
   "id": "0bad8598",
   "metadata": {},
   "outputs": [],
   "source": [
    "montant_na = data.loc[data['montant'].isnull(),:]\n",
    "\n",
    "for index in montant_na.index:\n",
    "    data.loc[index, 'montant'] = data.loc[index+1, 'solde_avt_ope'] - data.loc[index, 'solde_avt_ope']"
   ]
  },
  {
   "cell_type": "code",
   "execution_count": 72,
   "id": "04eff2cc",
   "metadata": {},
   "outputs": [
    {
     "data": {
      "text/html": [
       "<div>\n",
       "<style scoped>\n",
       "    .dataframe tbody tr th:only-of-type {\n",
       "        vertical-align: middle;\n",
       "    }\n",
       "\n",
       "    .dataframe tbody tr th {\n",
       "        vertical-align: top;\n",
       "    }\n",
       "\n",
       "    .dataframe thead th {\n",
       "        text-align: right;\n",
       "    }\n",
       "</style>\n",
       "<table border=\"1\" class=\"dataframe\">\n",
       "  <thead>\n",
       "    <tr style=\"text-align: right;\">\n",
       "      <th></th>\n",
       "      <th>date_operation</th>\n",
       "      <th>libelle</th>\n",
       "      <th>montant</th>\n",
       "      <th>solde_avt_ope</th>\n",
       "      <th>categ</th>\n",
       "    </tr>\n",
       "  </thead>\n",
       "  <tbody>\n",
       "  </tbody>\n",
       "</table>\n",
       "</div>"
      ],
      "text/plain": [
       "Empty DataFrame\n",
       "Columns: [date_operation, libelle, montant, solde_avt_ope, categ]\n",
       "Index: []"
      ]
     },
     "execution_count": 72,
     "metadata": {},
     "output_type": "execute_result"
    }
   ],
   "source": [
    "data.loc[data['montant'].isnull(),:]"
   ]
  },
  {
   "cell_type": "markdown",
   "id": "c1005118",
   "metadata": {},
   "source": [
    "#### Individus ayant les cat identique"
   ]
  },
  {
   "cell_type": "code",
   "execution_count": 74,
   "id": "fbf1b167",
   "metadata": {},
   "outputs": [
    {
     "data": {
      "text/html": [
       "<div>\n",
       "<style scoped>\n",
       "    .dataframe tbody tr th:only-of-type {\n",
       "        vertical-align: middle;\n",
       "    }\n",
       "\n",
       "    .dataframe tbody tr th {\n",
       "        vertical-align: top;\n",
       "    }\n",
       "\n",
       "    .dataframe thead th {\n",
       "        text-align: right;\n",
       "    }\n",
       "</style>\n",
       "<table border=\"1\" class=\"dataframe\">\n",
       "  <thead>\n",
       "    <tr style=\"text-align: right;\">\n",
       "      <th></th>\n",
       "      <th>date_operation</th>\n",
       "      <th>libelle</th>\n",
       "      <th>montant</th>\n",
       "      <th>solde_avt_ope</th>\n",
       "      <th>categ</th>\n",
       "    </tr>\n",
       "  </thead>\n",
       "  <tbody>\n",
       "    <tr>\n",
       "      <th>8</th>\n",
       "      <td>2023-04-05</td>\n",
       "      <td>PRELEVEMENT XX TELEPHONE XX XX</td>\n",
       "      <td>-7.02</td>\n",
       "      <td>2056.02</td>\n",
       "      <td>FACTURE TELEPHONE</td>\n",
       "    </tr>\n",
       "    <tr>\n",
       "      <th>62</th>\n",
       "      <td>2023-05-09</td>\n",
       "      <td>PRELEVEMENT XX TELEPHONE XX XX</td>\n",
       "      <td>-7.02</td>\n",
       "      <td>4090.10</td>\n",
       "      <td>FACTURE TELEPHONE</td>\n",
       "    </tr>\n",
       "    <tr>\n",
       "      <th>102</th>\n",
       "      <td>2023-06-07</td>\n",
       "      <td>PRELEVEMENT XX TELEPHONE XX XX</td>\n",
       "      <td>-6.38</td>\n",
       "      <td>4688.91</td>\n",
       "      <td>FACTURE TELEPHONE</td>\n",
       "    </tr>\n",
       "    <tr>\n",
       "      <th>156</th>\n",
       "      <td>2023-07-06</td>\n",
       "      <td>PRELEVEMENT XX TELEPHONE XX XX</td>\n",
       "      <td>-36.48</td>\n",
       "      <td>3295.68</td>\n",
       "      <td>NaN</td>\n",
       "    </tr>\n",
       "    <tr>\n",
       "      <th>204</th>\n",
       "      <td>2023-08-07</td>\n",
       "      <td>PRELEVEMENT XX TELEPHONE XX XX</td>\n",
       "      <td>-7.46</td>\n",
       "      <td>3751.73</td>\n",
       "      <td>FACTURE TELEPHONE</td>\n",
       "    </tr>\n",
       "    <tr>\n",
       "      <th>260</th>\n",
       "      <td>2023-09-05</td>\n",
       "      <td>PRELEVEMENT XX TELEPHONE XX XX</td>\n",
       "      <td>-6.38</td>\n",
       "      <td>3453.96</td>\n",
       "      <td>FACTURE TELEPHONE</td>\n",
       "    </tr>\n",
       "    <tr>\n",
       "      <th>308</th>\n",
       "      <td>2023-10-06</td>\n",
       "      <td>PRELEVEMENT XX TELEPHONE XX XX</td>\n",
       "      <td>-13.58</td>\n",
       "      <td>2413.58</td>\n",
       "      <td>FACTURE TELEPHONE</td>\n",
       "    </tr>\n",
       "  </tbody>\n",
       "</table>\n",
       "</div>"
      ],
      "text/plain": [
       "    date_operation                         libelle  montant  solde_avt_ope  \\\n",
       "8       2023-04-05  PRELEVEMENT XX TELEPHONE XX XX    -7.02        2056.02   \n",
       "62      2023-05-09  PRELEVEMENT XX TELEPHONE XX XX    -7.02        4090.10   \n",
       "102     2023-06-07  PRELEVEMENT XX TELEPHONE XX XX    -6.38        4688.91   \n",
       "156     2023-07-06  PRELEVEMENT XX TELEPHONE XX XX   -36.48        3295.68   \n",
       "204     2023-08-07  PRELEVEMENT XX TELEPHONE XX XX    -7.46        3751.73   \n",
       "260     2023-09-05  PRELEVEMENT XX TELEPHONE XX XX    -6.38        3453.96   \n",
       "308     2023-10-06  PRELEVEMENT XX TELEPHONE XX XX   -13.58        2413.58   \n",
       "\n",
       "                 categ  \n",
       "8    FACTURE TELEPHONE  \n",
       "62   FACTURE TELEPHONE  \n",
       "102  FACTURE TELEPHONE  \n",
       "156                NaN  \n",
       "204  FACTURE TELEPHONE  \n",
       "260  FACTURE TELEPHONE  \n",
       "308  FACTURE TELEPHONE  "
      ]
     },
     "execution_count": 74,
     "metadata": {},
     "output_type": "execute_result"
    }
   ],
   "source": [
    "data.loc[data['libelle'] == 'PRELEVEMENT XX TELEPHONE XX XX',:]"
   ]
  },
  {
   "cell_type": "code",
   "execution_count": 75,
   "id": "2df54472",
   "metadata": {},
   "outputs": [],
   "source": [
    "data.loc[data['categ'].isnull(), 'categ'] = 'FACTURE TELEPHONE'"
   ]
  },
  {
   "cell_type": "markdown",
   "id": "da384e5d",
   "metadata": {},
   "source": [
    "### Recherche des doublons"
   ]
  },
  {
   "cell_type": "code",
   "execution_count": 76,
   "id": "ce204573",
   "metadata": {},
   "outputs": [
    {
     "data": {
      "text/html": [
       "<div>\n",
       "<style scoped>\n",
       "    .dataframe tbody tr th:only-of-type {\n",
       "        vertical-align: middle;\n",
       "    }\n",
       "\n",
       "    .dataframe tbody tr th {\n",
       "        vertical-align: top;\n",
       "    }\n",
       "\n",
       "    .dataframe thead th {\n",
       "        text-align: right;\n",
       "    }\n",
       "</style>\n",
       "<table border=\"1\" class=\"dataframe\">\n",
       "  <thead>\n",
       "    <tr style=\"text-align: right;\">\n",
       "      <th></th>\n",
       "      <th>date_operation</th>\n",
       "      <th>libelle</th>\n",
       "      <th>montant</th>\n",
       "      <th>solde_avt_ope</th>\n",
       "      <th>categ</th>\n",
       "    </tr>\n",
       "  </thead>\n",
       "  <tbody>\n",
       "    <tr>\n",
       "      <th>43</th>\n",
       "      <td>2023-04-25</td>\n",
       "      <td>CARTE XX XX LES ANCIENS ROBINSON XX</td>\n",
       "      <td>-32.67</td>\n",
       "      <td>3647.67</td>\n",
       "      <td>COURSES</td>\n",
       "    </tr>\n",
       "    <tr>\n",
       "      <th>44</th>\n",
       "      <td>2023-04-25</td>\n",
       "      <td>CARTE XX XX LES ANCIENS ROBINSON XX</td>\n",
       "      <td>-32.67</td>\n",
       "      <td>3647.67</td>\n",
       "      <td>COURSES</td>\n",
       "    </tr>\n",
       "  </tbody>\n",
       "</table>\n",
       "</div>"
      ],
      "text/plain": [
       "   date_operation                              libelle  montant  \\\n",
       "43     2023-04-25  CARTE XX XX LES ANCIENS ROBINSON XX   -32.67   \n",
       "44     2023-04-25  CARTE XX XX LES ANCIENS ROBINSON XX   -32.67   \n",
       "\n",
       "    solde_avt_ope    categ  \n",
       "43        3647.67  COURSES  \n",
       "44        3647.67  COURSES  "
      ]
     },
     "execution_count": 76,
     "metadata": {},
     "output_type": "execute_result"
    }
   ],
   "source": [
    "data.loc[data[['date_operation', 'libelle', 'montant', 'solde_avt_ope']].duplicated(keep=False),:]"
   ]
  },
  {
   "cell_type": "markdown",
   "id": "4b1559cb",
   "metadata": {},
   "source": [
    "#### Traitement des doublons"
   ]
  },
  {
   "cell_type": "code",
   "execution_count": 77,
   "id": "eb7f91fc",
   "metadata": {},
   "outputs": [],
   "source": [
    "data.drop_duplicates(subset=['date_operation', 'libelle', 'montant', 'solde_avt_ope'],inplace=True,ignore_index=True)"
   ]
  },
  {
   "cell_type": "markdown",
   "id": "0cd356c1",
   "metadata": {},
   "source": [
    "### Dectection des outliers"
   ]
  },
  {
   "cell_type": "code",
   "execution_count": 78,
   "id": "cd2e93a4",
   "metadata": {},
   "outputs": [
    {
     "data": {
      "text/html": [
       "<div>\n",
       "<style scoped>\n",
       "    .dataframe tbody tr th:only-of-type {\n",
       "        vertical-align: middle;\n",
       "    }\n",
       "\n",
       "    .dataframe tbody tr th {\n",
       "        vertical-align: top;\n",
       "    }\n",
       "\n",
       "    .dataframe thead th {\n",
       "        text-align: right;\n",
       "    }\n",
       "</style>\n",
       "<table border=\"1\" class=\"dataframe\">\n",
       "  <thead>\n",
       "    <tr style=\"text-align: right;\">\n",
       "      <th></th>\n",
       "      <th>date_operation</th>\n",
       "      <th>montant</th>\n",
       "      <th>solde_avt_ope</th>\n",
       "    </tr>\n",
       "  </thead>\n",
       "  <tbody>\n",
       "    <tr>\n",
       "      <th>count</th>\n",
       "      <td>308</td>\n",
       "      <td>308.000000</td>\n",
       "      <td>308.000000</td>\n",
       "    </tr>\n",
       "    <tr>\n",
       "      <th>mean</th>\n",
       "      <td>2023-07-05 10:59:13.246753280</td>\n",
       "      <td>-45.782013</td>\n",
       "      <td>3395.301071</td>\n",
       "    </tr>\n",
       "    <tr>\n",
       "      <th>min</th>\n",
       "      <td>2023-03-31 00:00:00</td>\n",
       "      <td>-15000.000000</td>\n",
       "      <td>1416.810000</td>\n",
       "    </tr>\n",
       "    <tr>\n",
       "      <th>25%</th>\n",
       "      <td>2023-05-21 06:00:00</td>\n",
       "      <td>-20.447500</td>\n",
       "      <td>3010.737500</td>\n",
       "    </tr>\n",
       "    <tr>\n",
       "      <th>50%</th>\n",
       "      <td>2023-07-05 12:00:00</td>\n",
       "      <td>-9.600000</td>\n",
       "      <td>3452.465000</td>\n",
       "    </tr>\n",
       "    <tr>\n",
       "      <th>75%</th>\n",
       "      <td>2023-08-21 00:00:00</td>\n",
       "      <td>-2.715000</td>\n",
       "      <td>3787.232500</td>\n",
       "    </tr>\n",
       "    <tr>\n",
       "      <th>max</th>\n",
       "      <td>2023-10-06 00:00:00</td>\n",
       "      <td>1071.600000</td>\n",
       "      <td>4709.310000</td>\n",
       "    </tr>\n",
       "    <tr>\n",
       "      <th>std</th>\n",
       "      <td>NaN</td>\n",
       "      <td>872.818105</td>\n",
       "      <td>667.109412</td>\n",
       "    </tr>\n",
       "  </tbody>\n",
       "</table>\n",
       "</div>"
      ],
      "text/plain": [
       "                      date_operation       montant  solde_avt_ope\n",
       "count                            308    308.000000     308.000000\n",
       "mean   2023-07-05 10:59:13.246753280    -45.782013    3395.301071\n",
       "min              2023-03-31 00:00:00 -15000.000000    1416.810000\n",
       "25%              2023-05-21 06:00:00    -20.447500    3010.737500\n",
       "50%              2023-07-05 12:00:00     -9.600000    3452.465000\n",
       "75%              2023-08-21 00:00:00     -2.715000    3787.232500\n",
       "max              2023-10-06 00:00:00   1071.600000    4709.310000\n",
       "std                              NaN    872.818105     667.109412"
      ]
     },
     "execution_count": 78,
     "metadata": {},
     "output_type": "execute_result"
    }
   ],
   "source": [
    "data.describe(exclude=object)"
   ]
  },
  {
   "cell_type": "code",
   "execution_count": 83,
   "id": "79548deb",
   "metadata": {},
   "outputs": [
    {
     "data": {
      "text/html": [
       "<div>\n",
       "<style scoped>\n",
       "    .dataframe tbody tr th:only-of-type {\n",
       "        vertical-align: middle;\n",
       "    }\n",
       "\n",
       "    .dataframe tbody tr th {\n",
       "        vertical-align: top;\n",
       "    }\n",
       "\n",
       "    .dataframe thead th {\n",
       "        text-align: right;\n",
       "    }\n",
       "</style>\n",
       "<table border=\"1\" class=\"dataframe\">\n",
       "  <thead>\n",
       "    <tr style=\"text-align: right;\">\n",
       "      <th></th>\n",
       "      <th>date_operation</th>\n",
       "      <th>libelle</th>\n",
       "      <th>montant</th>\n",
       "      <th>solde_avt_ope</th>\n",
       "      <th>categ</th>\n",
       "    </tr>\n",
       "  </thead>\n",
       "  <tbody>\n",
       "    <tr>\n",
       "      <th>197</th>\n",
       "      <td>2023-08-03</td>\n",
       "      <td>VIREMENT XX XX XX XX XX XX XX XX XX XX XX XX</td>\n",
       "      <td>676.00</td>\n",
       "      <td>3121.35</td>\n",
       "      <td>AUTRE</td>\n",
       "    </tr>\n",
       "    <tr>\n",
       "      <th>198</th>\n",
       "      <td>2023-08-03</td>\n",
       "      <td>CARTE XX XX XX XX</td>\n",
       "      <td>-15000.00</td>\n",
       "      <td>3797.35</td>\n",
       "      <td>AUTRE</td>\n",
       "    </tr>\n",
       "    <tr>\n",
       "      <th>199</th>\n",
       "      <td>2023-08-03</td>\n",
       "      <td>CARTE XX XX L'EPICERIE DEMBAS XX XX</td>\n",
       "      <td>-10.51</td>\n",
       "      <td>3782.96</td>\n",
       "      <td>AUTRE</td>\n",
       "    </tr>\n",
       "  </tbody>\n",
       "</table>\n",
       "</div>"
      ],
      "text/plain": [
       "    date_operation                                       libelle   montant  \\\n",
       "197     2023-08-03  VIREMENT XX XX XX XX XX XX XX XX XX XX XX XX    676.00   \n",
       "198     2023-08-03                             CARTE XX XX XX XX -15000.00   \n",
       "199     2023-08-03           CARTE XX XX L'EPICERIE DEMBAS XX XX    -10.51   \n",
       "\n",
       "     solde_avt_ope  categ  \n",
       "197        3121.35  AUTRE  \n",
       "198        3797.35  AUTRE  \n",
       "199        3782.96  AUTRE  "
      ]
     },
     "execution_count": 83,
     "metadata": {},
     "output_type": "execute_result"
    }
   ],
   "source": [
    "t = data.loc[data['montant'] == -15000,:].index[0]\n",
    "data.iloc[t-1:t+2,:]"
   ]
  },
  {
   "cell_type": "raw",
   "id": "9395f97d",
   "metadata": {},
   "source": [
    "le solde montre une operation de (3782.96 - 3797.35) = -14.39 et non -15000 donc une valeur aberante"
   ]
  },
  {
   "cell_type": "code",
   "execution_count": 88,
   "id": "238345bb",
   "metadata": {},
   "outputs": [],
   "source": [
    "data.loc[data['montant'] == -15000, 'montant'] = -14.39"
   ]
  },
  {
   "cell_type": "code",
   "execution_count": 89,
   "id": "2b154589",
   "metadata": {},
   "outputs": [
    {
     "data": {
      "text/html": [
       "<div>\n",
       "<style scoped>\n",
       "    .dataframe tbody tr th:only-of-type {\n",
       "        vertical-align: middle;\n",
       "    }\n",
       "\n",
       "    .dataframe tbody tr th {\n",
       "        vertical-align: top;\n",
       "    }\n",
       "\n",
       "    .dataframe thead th {\n",
       "        text-align: right;\n",
       "    }\n",
       "</style>\n",
       "<table border=\"1\" class=\"dataframe\">\n",
       "  <thead>\n",
       "    <tr style=\"text-align: right;\">\n",
       "      <th></th>\n",
       "      <th>date_operation</th>\n",
       "      <th>montant</th>\n",
       "      <th>solde_avt_ope</th>\n",
       "    </tr>\n",
       "  </thead>\n",
       "  <tbody>\n",
       "    <tr>\n",
       "      <th>count</th>\n",
       "      <td>308</td>\n",
       "      <td>308.000000</td>\n",
       "      <td>308.000000</td>\n",
       "    </tr>\n",
       "    <tr>\n",
       "      <th>mean</th>\n",
       "      <td>2023-07-05 10:59:13.246753280</td>\n",
       "      <td>2.872565</td>\n",
       "      <td>3395.301071</td>\n",
       "    </tr>\n",
       "    <tr>\n",
       "      <th>min</th>\n",
       "      <td>2023-03-31 00:00:00</td>\n",
       "      <td>-602.270000</td>\n",
       "      <td>1416.810000</td>\n",
       "    </tr>\n",
       "    <tr>\n",
       "      <th>25%</th>\n",
       "      <td>2023-05-21 06:00:00</td>\n",
       "      <td>-20.047500</td>\n",
       "      <td>3010.737500</td>\n",
       "    </tr>\n",
       "    <tr>\n",
       "      <th>50%</th>\n",
       "      <td>2023-07-05 12:00:00</td>\n",
       "      <td>-9.600000</td>\n",
       "      <td>3452.465000</td>\n",
       "    </tr>\n",
       "    <tr>\n",
       "      <th>75%</th>\n",
       "      <td>2023-08-21 00:00:00</td>\n",
       "      <td>-2.715000</td>\n",
       "      <td>3787.232500</td>\n",
       "    </tr>\n",
       "    <tr>\n",
       "      <th>max</th>\n",
       "      <td>2023-10-06 00:00:00</td>\n",
       "      <td>1071.600000</td>\n",
       "      <td>4709.310000</td>\n",
       "    </tr>\n",
       "    <tr>\n",
       "      <th>std</th>\n",
       "      <td>NaN</td>\n",
       "      <td>176.089858</td>\n",
       "      <td>667.109412</td>\n",
       "    </tr>\n",
       "  </tbody>\n",
       "</table>\n",
       "</div>"
      ],
      "text/plain": [
       "                      date_operation      montant  solde_avt_ope\n",
       "count                            308   308.000000     308.000000\n",
       "mean   2023-07-05 10:59:13.246753280     2.872565    3395.301071\n",
       "min              2023-03-31 00:00:00  -602.270000    1416.810000\n",
       "25%              2023-05-21 06:00:00   -20.047500    3010.737500\n",
       "50%              2023-07-05 12:00:00    -9.600000    3452.465000\n",
       "75%              2023-08-21 00:00:00    -2.715000    3787.232500\n",
       "max              2023-10-06 00:00:00  1071.600000    4709.310000\n",
       "std                              NaN   176.089858     667.109412"
      ]
     },
     "execution_count": 89,
     "metadata": {},
     "output_type": "execute_result"
    }
   ],
   "source": [
    "data.describe()"
   ]
  },
  {
   "cell_type": "markdown",
   "id": "ee1b5f92",
   "metadata": {},
   "source": [
    "## Detection des doublons"
   ]
  },
  {
   "cell_type": "code",
   "execution_count": null,
   "id": "bf6a6c6c",
   "metadata": {},
   "outputs": [],
   "source": []
  },
  {
   "cell_type": "code",
   "execution_count": null,
   "id": "ab678f31",
   "metadata": {},
   "outputs": [],
   "source": []
  },
  {
   "cell_type": "code",
   "execution_count": 124,
   "id": "84769c9a",
   "metadata": {},
   "outputs": [],
   "source": []
  },
  {
   "cell_type": "code",
   "execution_count": 125,
   "id": "cbde9603",
   "metadata": {},
   "outputs": [],
   "source": []
  },
  {
   "cell_type": "code",
   "execution_count": null,
   "id": "601f5f9c",
   "metadata": {},
   "outputs": [],
   "source": []
  },
  {
   "cell_type": "code",
   "execution_count": 85,
   "id": "2ad7954d",
   "metadata": {},
   "outputs": [
    {
     "data": {
      "text/html": [
       "<div>\n",
       "<style scoped>\n",
       "    .dataframe tbody tr th:only-of-type {\n",
       "        vertical-align: middle;\n",
       "    }\n",
       "\n",
       "    .dataframe tbody tr th {\n",
       "        vertical-align: top;\n",
       "    }\n",
       "\n",
       "    .dataframe thead th {\n",
       "        text-align: right;\n",
       "    }\n",
       "</style>\n",
       "<table border=\"1\" class=\"dataframe\">\n",
       "  <thead>\n",
       "    <tr style=\"text-align: right;\">\n",
       "      <th></th>\n",
       "      <th>date_operation</th>\n",
       "      <th>libelle</th>\n",
       "      <th>montant</th>\n",
       "      <th>solde_avt_ope</th>\n",
       "      <th>categ</th>\n",
       "    </tr>\n",
       "  </thead>\n",
       "  <tbody>\n",
       "    <tr>\n",
       "      <th>0</th>\n",
       "      <td>2023-03-31</td>\n",
       "      <td>DON XX XX XX XX XX XX XX</td>\n",
       "      <td>-1.44</td>\n",
       "      <td>1515.25</td>\n",
       "      <td>AUTRE</td>\n",
       "    </tr>\n",
       "    <tr>\n",
       "      <th>1</th>\n",
       "      <td>2023-04-03</td>\n",
       "      <td>CARTE XX XX RAPT XX</td>\n",
       "      <td>-24.00</td>\n",
       "      <td>1513.81</td>\n",
       "      <td>TRANSPORT</td>\n",
       "    </tr>\n",
       "    <tr>\n",
       "      <th>2</th>\n",
       "      <td>2023-04-03</td>\n",
       "      <td>CARTE XX XX RAPT XX</td>\n",
       "      <td>-73.00</td>\n",
       "      <td>1489.81</td>\n",
       "      <td>TRANSPORT</td>\n",
       "    </tr>\n",
       "    <tr>\n",
       "      <th>3</th>\n",
       "      <td>2023-04-03</td>\n",
       "      <td>VIREMENT XX XX XX XX XX XX XX XX XX XX XX XX</td>\n",
       "      <td>676.00</td>\n",
       "      <td>1416.81</td>\n",
       "      <td>AUTRE</td>\n",
       "    </tr>\n",
       "    <tr>\n",
       "      <th>4</th>\n",
       "      <td>2023-04-03</td>\n",
       "      <td>VIREMENT XX XX XX XX XX XX</td>\n",
       "      <td>4.80</td>\n",
       "      <td>2092.81</td>\n",
       "      <td>AUTRE</td>\n",
       "    </tr>\n",
       "    <tr>\n",
       "      <th>...</th>\n",
       "      <td>...</td>\n",
       "      <td>...</td>\n",
       "      <td>...</td>\n",
       "      <td>...</td>\n",
       "      <td>...</td>\n",
       "    </tr>\n",
       "    <tr>\n",
       "      <th>303</th>\n",
       "      <td>2023-10-05</td>\n",
       "      <td>CARTE XX XX XX XX XX XX</td>\n",
       "      <td>-10.64</td>\n",
       "      <td>2440.94</td>\n",
       "      <td>AUTRE</td>\n",
       "    </tr>\n",
       "    <tr>\n",
       "      <th>304</th>\n",
       "      <td>2023-10-05</td>\n",
       "      <td>CARTE XX XX XX XX</td>\n",
       "      <td>-4.80</td>\n",
       "      <td>2430.30</td>\n",
       "      <td>AUTRE</td>\n",
       "    </tr>\n",
       "    <tr>\n",
       "      <th>305</th>\n",
       "      <td>2023-10-06</td>\n",
       "      <td>FORFAIT COMPTE SUPERBANK XX XX XX XX</td>\n",
       "      <td>-1.92</td>\n",
       "      <td>2425.50</td>\n",
       "      <td>COTISATION BANCAIRE</td>\n",
       "    </tr>\n",
       "    <tr>\n",
       "      <th>306</th>\n",
       "      <td>2023-10-06</td>\n",
       "      <td>CARTE XX XX CHEZ LUC XX</td>\n",
       "      <td>-10.00</td>\n",
       "      <td>2423.58</td>\n",
       "      <td>RESTAURANT</td>\n",
       "    </tr>\n",
       "    <tr>\n",
       "      <th>307</th>\n",
       "      <td>2023-10-06</td>\n",
       "      <td>PRELEVEMENT XX TELEPHONE XX XX</td>\n",
       "      <td>-13.58</td>\n",
       "      <td>2413.58</td>\n",
       "      <td>FACTURE TELEPHONE</td>\n",
       "    </tr>\n",
       "  </tbody>\n",
       "</table>\n",
       "<p>308 rows × 5 columns</p>\n",
       "</div>"
      ],
      "text/plain": [
       "    date_operation                                       libelle  montant  \\\n",
       "0       2023-03-31                      DON XX XX XX XX XX XX XX    -1.44   \n",
       "1       2023-04-03                           CARTE XX XX RAPT XX   -24.00   \n",
       "2       2023-04-03                           CARTE XX XX RAPT XX   -73.00   \n",
       "3       2023-04-03  VIREMENT XX XX XX XX XX XX XX XX XX XX XX XX   676.00   \n",
       "4       2023-04-03                    VIREMENT XX XX XX XX XX XX     4.80   \n",
       "..             ...                                           ...      ...   \n",
       "303     2023-10-05                       CARTE XX XX XX XX XX XX   -10.64   \n",
       "304     2023-10-05                             CARTE XX XX XX XX    -4.80   \n",
       "305     2023-10-06          FORFAIT COMPTE SUPERBANK XX XX XX XX    -1.92   \n",
       "306     2023-10-06                       CARTE XX XX CHEZ LUC XX   -10.00   \n",
       "307     2023-10-06                PRELEVEMENT XX TELEPHONE XX XX   -13.58   \n",
       "\n",
       "     solde_avt_ope                categ  \n",
       "0          1515.25                AUTRE  \n",
       "1          1513.81            TRANSPORT  \n",
       "2          1489.81            TRANSPORT  \n",
       "3          1416.81                AUTRE  \n",
       "4          2092.81                AUTRE  \n",
       "..             ...                  ...  \n",
       "303        2440.94                AUTRE  \n",
       "304        2430.30                AUTRE  \n",
       "305        2425.50  COTISATION BANCAIRE  \n",
       "306        2423.58           RESTAURANT  \n",
       "307        2413.58    FACTURE TELEPHONE  \n",
       "\n",
       "[308 rows x 5 columns]"
      ]
     },
     "execution_count": 85,
     "metadata": {},
     "output_type": "execute_result"
    }
   ],
   "source": [
    "data"
   ]
  },
  {
   "cell_type": "code",
   "execution_count": 127,
   "id": "37f4d518",
   "metadata": {},
   "outputs": [],
   "source": [
    "cat_data = []\n",
    "num_data = []"
   ]
  },
  {
   "cell_type": "code",
   "execution_count": 128,
   "id": "2c592760",
   "metadata": {},
   "outputs": [],
   "source": [
    "for i, c in enumerate(data.dtypes):\n",
    "    if c == 'object':\n",
    "        cat_data.append(data.iloc[:,i])\n",
    "    else:\n",
    "        num_data.append(data.iloc[:,i])"
   ]
  },
  {
   "cell_type": "code",
   "execution_count": 129,
   "id": "2da8fe1d",
   "metadata": {},
   "outputs": [
    {
     "ename": "TypeError",
     "evalue": "The DType <class 'numpy.dtype[datetime64]'> could not be promoted by <class 'numpy.dtype[float64]'>. This means that no common DType exists for the given inputs. For example they cannot be stored in a single array unless the dtype is `object`. The full list of DTypes is: (<class 'numpy.dtype[datetime64]'>, <class 'numpy.dtype[float64]'>, <class 'numpy.dtype[float64]'>)",
     "output_type": "error",
     "traceback": [
      "\u001b[1;31m---------------------------------------------------------------------------\u001b[0m",
      "\u001b[1;31mTypeError\u001b[0m                                 Traceback (most recent call last)",
      "Cell \u001b[1;32mIn[129], line 2\u001b[0m\n\u001b[0;32m      1\u001b[0m cat_data \u001b[38;5;241m=\u001b[39m pd\u001b[38;5;241m.\u001b[39mDataFrame(cat_data)\u001b[38;5;241m.\u001b[39mT\n\u001b[1;32m----> 2\u001b[0m num_data \u001b[38;5;241m=\u001b[39m pd\u001b[38;5;241m.\u001b[39mDataFrame(num_data)\u001b[38;5;241m.\u001b[39mT\n",
      "File \u001b[1;32m~\\anaconda3\\Lib\\site-packages\\pandas\\core\\frame.py:782\u001b[0m, in \u001b[0;36mDataFrame.__init__\u001b[1;34m(self, data, index, columns, dtype, copy)\u001b[0m\n\u001b[0;32m    780\u001b[0m     \u001b[38;5;28;01mif\u001b[39;00m columns \u001b[38;5;129;01mis\u001b[39;00m \u001b[38;5;129;01mnot\u001b[39;00m \u001b[38;5;28;01mNone\u001b[39;00m:\n\u001b[0;32m    781\u001b[0m         columns \u001b[38;5;241m=\u001b[39m ensure_index(columns)\n\u001b[1;32m--> 782\u001b[0m     arrays, columns, index \u001b[38;5;241m=\u001b[39m nested_data_to_arrays(\n\u001b[0;32m    783\u001b[0m         \u001b[38;5;66;03m# error: Argument 3 to \"nested_data_to_arrays\" has incompatible\u001b[39;00m\n\u001b[0;32m    784\u001b[0m         \u001b[38;5;66;03m# type \"Optional[Collection[Any]]\"; expected \"Optional[Index]\"\u001b[39;00m\n\u001b[0;32m    785\u001b[0m         data,\n\u001b[0;32m    786\u001b[0m         columns,\n\u001b[0;32m    787\u001b[0m         index,  \u001b[38;5;66;03m# type: ignore[arg-type]\u001b[39;00m\n\u001b[0;32m    788\u001b[0m         dtype,\n\u001b[0;32m    789\u001b[0m     )\n\u001b[0;32m    790\u001b[0m     mgr \u001b[38;5;241m=\u001b[39m arrays_to_mgr(\n\u001b[0;32m    791\u001b[0m         arrays,\n\u001b[0;32m    792\u001b[0m         columns,\n\u001b[1;32m   (...)\u001b[0m\n\u001b[0;32m    795\u001b[0m         typ\u001b[38;5;241m=\u001b[39mmanager,\n\u001b[0;32m    796\u001b[0m     )\n\u001b[0;32m    797\u001b[0m \u001b[38;5;28;01melse\u001b[39;00m:\n",
      "File \u001b[1;32m~\\anaconda3\\Lib\\site-packages\\pandas\\core\\internals\\construction.py:498\u001b[0m, in \u001b[0;36mnested_data_to_arrays\u001b[1;34m(data, columns, index, dtype)\u001b[0m\n\u001b[0;32m    495\u001b[0m \u001b[38;5;28;01mif\u001b[39;00m is_named_tuple(data[\u001b[38;5;241m0\u001b[39m]) \u001b[38;5;129;01mand\u001b[39;00m columns \u001b[38;5;129;01mis\u001b[39;00m \u001b[38;5;28;01mNone\u001b[39;00m:\n\u001b[0;32m    496\u001b[0m     columns \u001b[38;5;241m=\u001b[39m ensure_index(data[\u001b[38;5;241m0\u001b[39m]\u001b[38;5;241m.\u001b[39m_fields)\n\u001b[1;32m--> 498\u001b[0m arrays, columns \u001b[38;5;241m=\u001b[39m to_arrays(data, columns, dtype\u001b[38;5;241m=\u001b[39mdtype)\n\u001b[0;32m    499\u001b[0m columns \u001b[38;5;241m=\u001b[39m ensure_index(columns)\n\u001b[0;32m    501\u001b[0m \u001b[38;5;28;01mif\u001b[39;00m index \u001b[38;5;129;01mis\u001b[39;00m \u001b[38;5;28;01mNone\u001b[39;00m:\n",
      "File \u001b[1;32m~\\anaconda3\\Lib\\site-packages\\pandas\\core\\internals\\construction.py:834\u001b[0m, in \u001b[0;36mto_arrays\u001b[1;34m(data, columns, dtype)\u001b[0m\n\u001b[0;32m    832\u001b[0m     arr, columns \u001b[38;5;241m=\u001b[39m _list_of_dict_to_arrays(data, columns)\n\u001b[0;32m    833\u001b[0m \u001b[38;5;28;01melif\u001b[39;00m \u001b[38;5;28misinstance\u001b[39m(data[\u001b[38;5;241m0\u001b[39m], ABCSeries):\n\u001b[1;32m--> 834\u001b[0m     arr, columns \u001b[38;5;241m=\u001b[39m _list_of_series_to_arrays(data, columns)\n\u001b[0;32m    835\u001b[0m \u001b[38;5;28;01melse\u001b[39;00m:\n\u001b[0;32m    836\u001b[0m     \u001b[38;5;66;03m# last ditch effort\u001b[39;00m\n\u001b[0;32m    837\u001b[0m     data \u001b[38;5;241m=\u001b[39m [\u001b[38;5;28mtuple\u001b[39m(x) \u001b[38;5;28;01mfor\u001b[39;00m x \u001b[38;5;129;01min\u001b[39;00m data]\n",
      "File \u001b[1;32m~\\anaconda3\\Lib\\site-packages\\pandas\\core\\internals\\construction.py:882\u001b[0m, in \u001b[0;36m_list_of_series_to_arrays\u001b[1;34m(data, columns)\u001b[0m\n\u001b[0;32m    879\u001b[0m     values \u001b[38;5;241m=\u001b[39m extract_array(s, extract_numpy\u001b[38;5;241m=\u001b[39m\u001b[38;5;28;01mTrue\u001b[39;00m)\n\u001b[0;32m    880\u001b[0m     aligned_values\u001b[38;5;241m.\u001b[39mappend(algorithms\u001b[38;5;241m.\u001b[39mtake_nd(values, indexer))\n\u001b[1;32m--> 882\u001b[0m content \u001b[38;5;241m=\u001b[39m np\u001b[38;5;241m.\u001b[39mvstack(aligned_values)\n\u001b[0;32m    883\u001b[0m \u001b[38;5;28;01mreturn\u001b[39;00m content, columns\n",
      "File \u001b[1;32m<__array_function__ internals>:200\u001b[0m, in \u001b[0;36mvstack\u001b[1;34m(*args, **kwargs)\u001b[0m\n",
      "File \u001b[1;32m~\\anaconda3\\Lib\\site-packages\\numpy\\core\\shape_base.py:296\u001b[0m, in \u001b[0;36mvstack\u001b[1;34m(tup, dtype, casting)\u001b[0m\n\u001b[0;32m    294\u001b[0m \u001b[38;5;28;01mif\u001b[39;00m \u001b[38;5;129;01mnot\u001b[39;00m \u001b[38;5;28misinstance\u001b[39m(arrs, \u001b[38;5;28mlist\u001b[39m):\n\u001b[0;32m    295\u001b[0m     arrs \u001b[38;5;241m=\u001b[39m [arrs]\n\u001b[1;32m--> 296\u001b[0m \u001b[38;5;28;01mreturn\u001b[39;00m _nx\u001b[38;5;241m.\u001b[39mconcatenate(arrs, \u001b[38;5;241m0\u001b[39m, dtype\u001b[38;5;241m=\u001b[39mdtype, casting\u001b[38;5;241m=\u001b[39mcasting)\n",
      "File \u001b[1;32m<__array_function__ internals>:200\u001b[0m, in \u001b[0;36mconcatenate\u001b[1;34m(*args, **kwargs)\u001b[0m\n",
      "\u001b[1;31mTypeError\u001b[0m: The DType <class 'numpy.dtype[datetime64]'> could not be promoted by <class 'numpy.dtype[float64]'>. This means that no common DType exists for the given inputs. For example they cannot be stored in a single array unless the dtype is `object`. The full list of DTypes is: (<class 'numpy.dtype[datetime64]'>, <class 'numpy.dtype[float64]'>, <class 'numpy.dtype[float64]'>)"
     ]
    }
   ],
   "source": [
    "cat_data = pd.DataFrame(cat_data).T\n",
    "num_data = pd.DataFrame(num_data).T"
   ]
  },
  {
   "cell_type": "code",
   "execution_count": null,
   "id": "5e36075d",
   "metadata": {},
   "outputs": [],
   "source": [
    "num_data.dtypes"
   ]
  },
  {
   "cell_type": "code",
   "execution_count": null,
   "id": "82da5b98",
   "metadata": {},
   "outputs": [],
   "source": [
    "Q1,Q3 = np.percentile(num_data, [25,75])\n",
    "IQR = Q3 - Q1\n",
    "outlier = []\n",
    "for item in num_data:\n",
    "    if item<(Q1 - 1.5 * IQR) or item>(Q3 + 1.5 * IQR):\n",
    "        outlier.append(item)\n",
    "outlier"
   ]
  },
  {
   "cell_type": "code",
   "execution_count": null,
   "id": "a238703d",
   "metadata": {},
   "outputs": [],
   "source": [
    "oulie"
   ]
  }
 ],
 "metadata": {
  "kernelspec": {
   "display_name": "Python 3 (ipykernel)",
   "language": "python",
   "name": "python3"
  },
  "language_info": {
   "codemirror_mode": {
    "name": "ipython",
    "version": 3
   },
   "file_extension": ".py",
   "mimetype": "text/x-python",
   "name": "python",
   "nbconvert_exporter": "python",
   "pygments_lexer": "ipython3",
   "version": "3.11.5"
  }
 },
 "nbformat": 4,
 "nbformat_minor": 5
}
